{
    "cells": [
        {
            "cell_type": "code",
            "execution_count": 1,
            "metadata": {},
            "outputs": [],
            "source": [
                "from hbn_correction.datacorrection import DataCorrection"
            ]
        },
        {
            "cell_type": "markdown",
            "metadata": {},
            "source": [
                "### change path to your raw data file downloaded from LORIS"
            ]
        },
        {
            "cell_type": "code",
            "execution_count": 4,
            "metadata": {},
            "outputs": [
                {
                    "name": "stdout",
                    "output_type": "stream",
                    "text": [
                        "Data corrections completed.\n",
                        "Corrected data was saved to ../data/data_corrected.csv\n"
                    ]
                }
            ],
            "source": [
                "corrected_data = DataCorrection().run(\"../data/data.csv\")"
            ]
        }
    ],
    "metadata": {
        "kernelspec": {
            "display_name": ".venv",
            "language": "python",
            "name": "python3"
        },
        "language_info": {
            "codemirror_mode": {
                "name": "ipython",
                "version": 3
            },
            "file_extension": ".py",
            "mimetype": "text/x-python",
            "name": "python",
            "nbconvert_exporter": "python",
            "pygments_lexer": "ipython3",
            "version": "3.12.8"
        }
    },
    "nbformat": 4,
    "nbformat_minor": 2
}
